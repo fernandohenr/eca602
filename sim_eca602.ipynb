{
 "cells": [
  {
   "cell_type": "markdown",
   "metadata": {
    "deletable": false,
    "editable": false
   },
   "source": [
    "# Simulação - Malha de controle com controlador PID\n",
    "\n",
    "## UNIFEI - Universidade Federal de Itajubá\n",
    "\n",
    "### Prof. Fernando H. D. Guaracy\n",
    "### ECA602 - 2º Semestre de 2020 - RTE"
   ]
  },
  {
   "cell_type": "code",
   "execution_count": 1,
   "metadata": {
    "deletable": false,
    "editable": false
   },
   "outputs": [],
   "source": [
    "%matplotlib inline\n",
    "\n",
    "import numpy as np\n",
    "import math\n",
    "import matplotlib.pyplot as plt\n",
    "import ipywidgets as widgets\n",
    "\n",
    "from ipywidgets import interact_manual\n",
    "from ipywidgets import interact\n",
    "from IPython.display import display, clear_output\n",
    "from scipy.integrate import odeint\n",
    "from matplotlib import animation\n",
    "from IPython.display import HTML\n",
    "from pylab import rcParams\n",
    "\n",
    "rcParams['figure.figsize'] = 16, 9"
   ]
  },
  {
   "cell_type": "code",
   "execution_count": 2,
   "metadata": {
    "deletable": false,
    "editable": false,
    "hide_input": false
   },
   "outputs": [],
   "source": [
    "#Configurações da simulação\n",
    "\n",
    "ti = 0.001 #Passo de simulação\n",
    "\n",
    "x0 = 0 #Valor inicial\n",
    "sp = 1 #Setpoint"
   ]
  },
  {
   "cell_type": "code",
   "execution_count": 3,
   "metadata": {
    "deletable": false,
    "editable": false,
    "hide_input": false
   },
   "outputs": [],
   "source": [
    "#Modelo do sistema\n",
    "def modelo(x, t): \n",
    "  global u    \n",
    "\n",
    "  x1,x2,x3 = x\n",
    "  dxdt = [x2,x3,-x1-3*x2-3*x3+u]\n",
    "      \n",
    "  return dxdt"
   ]
  },
  {
   "cell_type": "markdown",
   "metadata": {
    "deletable": false,
    "editable": false
   },
   "source": [
    "\n",
    "\n",
    "\n",
    "\n",
    "### Resposta do sistema ao degrau unitário em malha aberta"
   ]
  },
  {
   "cell_type": "code",
   "execution_count": 4,
   "metadata": {
    "deletable": false,
    "editable": false,
    "scrolled": true
   },
   "outputs": [
    {
     "data": {
      "image/png": "[encoded data removed]",
      "text/plain": [
       "<Figure size 1152x648 with 1 Axes>"
      ]
     },
     "metadata": {
      "needs_background": "light"
     },
     "output_type": "display_data"
    }
   ],
   "source": [
    "vet_t = []\n",
    "vet_u = []\n",
    "vet_y = []\n",
    "    \n",
    "xz = [[x0, 0, 0],[x0, 0, 0]]\n",
    "    \n",
    " \n",
    "#Loop de simulação\n",
    "for i in range(0,20000,1):\n",
    "    \n",
    "  u = 1 \n",
    "\n",
    "  #----Solução da EDO-------  \n",
    "  xz = odeint(modelo, xz[1][:], [0,ti])  \n",
    "\n",
    "  #----Armazenamento de dados----\n",
    "  vet_t.append(i*ti)\n",
    "  vet_u.append(u)\n",
    "  vet_y.append(xz[1][0])      \n",
    "\n",
    "    #Gera figuras (estáticas)   \n",
    "plt.plot(vet_t,(np.ones(len(vet_t))),'k')\n",
    "plt.plot(vet_t, vet_y)\n",
    "plt.ylabel('Amplitude')\n",
    "plt.xlabel('Tempo [s]')\n",
    "plt.legend(['Saída'])\n",
    "plt.ylim(top=1.2)\n",
    "plt.ylim(bottom=-0.2)\n",
    "plt.grid(True)"
   ]
  },
  {
   "cell_type": "markdown",
   "metadata": {},
   "source": [
    "### Resposta do sistema a uma referência degrau unitário com o controlador PID em malha fechada"
   ]
  },
  {
   "cell_type": "code",
   "execution_count": 5,
   "metadata": {
    "hide_input": false,
    "scrolled": false
   },
   "outputs": [],
   "source": [
    "#Simulação\n",
    "def simulacao(Kp,Ki,Kd):\n",
    "#Parâmetros do controlador  \n",
    "\n",
    "    #Inicialização de variáveis\n",
    "    global u, vet_t, vet_u, vet_y    \n",
    "    \n",
    "    vet_t = []\n",
    "    vet_u = []\n",
    "    vet_y = []\n",
    "\n",
    "    c0 = Kp + ti/2*Ki + Kd/ti \n",
    "    c1 = -Kp + ti/2*Ki - 2*Kd/ti    \n",
    "    c2 = Kd/ti\n",
    "    \n",
    "    u = 0\n",
    "    u_1 = 0\n",
    "    e = 0\n",
    "    e_1 = 0\n",
    "    e_2 = 0\n",
    "    xz = [[x0, 0, 0],[x0, 0, 0]]\n",
    "    \n",
    "    #Loop de simulação\n",
    "    for i in range(0,20000,1):\n",
    "      \n",
    "      #----Lei de controle------           \n",
    "      e = (sp - xz[1][0])      \n",
    "        \n",
    "      u = u_1 + c0*e + c1*e_1 + c2*e_2\n",
    "        \n",
    "      u_1 = u\n",
    "      e_2 = e_1\n",
    "      e_1 = e\n",
    "      #-Fim da lei de controle----\n",
    "\n",
    "      #----Solução da EDO-------  \n",
    "      xz = odeint(modelo, xz[1][:], [0,ti])  \n",
    "\n",
    "      #----Armazenamento de dados----\n",
    "      vet_t.append(i*ti)\n",
    "      vet_u.append(u)\n",
    "      vet_y.append(xz[1][0])      \n",
    "\n",
    "    #Gera figuras (estáticas)   \n",
    "    plt.plot(vet_t,(np.ones(len(vet_t))),'k')\n",
    "    plt.plot(vet_t, vet_y)\n",
    "    plt.legend(['Referência','Saída'])\n",
    "    plt.ylabel('Amplitude')\n",
    "    plt.xlabel('Tempo [s]')\n",
    "    plt.grid(True)\n",
    "\n",
    "    return "
   ]
  },
  {
   "cell_type": "code",
   "execution_count": 6,
   "metadata": {},
   "outputs": [
    {
     "data": {
      "application/vnd.jupyter.widget-view+json": {
       "model_id": "b06775c6cd8346efb0773c406c1a5f5b",
       "version_major": 2,
       "version_minor": 0
      },
      "text/plain": [
       "interactive(children=(FloatText(value=2.0, description='Kp', step=0.1), FloatText(value=0.0, description='Ki',…"
      ]
     },
     "metadata": {},
     "output_type": "display_data"
    }
   ],
   "source": [
    "Kp_widget=widgets.FloatText(value=2,step=0.1)\n",
    "Ki_widget=widgets.FloatText(value=0,step=0.1)\n",
    "Kd_widget=widgets.FloatText(value=0,step=0.1)\n",
    "\n",
    "interact(simulacao,Kp=Kp_widget,Ki=Ki_widget,Kd=Kd_widget,continuous_update=False);"
   ]
  }
 ],
 "metadata": {
  "hide_input": false,
  "kernelspec": {
   "display_name": "Python 3",
   "language": "python",
   "name": "python3"
  },
  "language_info": {
   "codemirror_mode": {
    "name": "ipython",
    "version": 3
   },
   "file_extension": ".py",
   "mimetype": "text/x-python",
   "name": "python",
   "nbconvert_exporter": "python",
   "pygments_lexer": "ipython3",
   "version": "3.7.0"
  }
 },
 "nbformat": 4,
 "nbformat_minor": 4
}
